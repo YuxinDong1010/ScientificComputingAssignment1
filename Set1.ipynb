{
 "cells": [
  {
   "cell_type": "markdown",
   "id": "92aef5d0-2bf0-4dfb-948d-74ce9473dba3",
   "metadata": {},
   "source": [
    "# Set 1"
   ]
  },
  {
   "cell_type": "code",
   "execution_count": null,
   "id": "1450e5c3-1dee-4cef-bb87-cb68e6224a1f",
   "metadata": {},
   "outputs": [],
   "source": [
    "import numpy\n"
   ]
  },
  {
   "cell_type": "markdown",
   "id": "d32d1280-c340-4433-872c-40686da5c86f",
   "metadata": {},
   "source": [
    "## A (0.5 point) \n",
    "Discretize the wave equation, and write it in a form suitable for\n",
    "implementing in a computer program. Assume that the boundaries are fixed, $Ψ(x =\n",
    "0, t) = 0, Ψ(x = L, t) = 0$. $L$ is the length of the string. Take $L = 1$ for simplicity.\n",
    "Divide the string in $N$ intervals, so that the interval length is $∆x = L/N$ . Also\n",
    "consider the boundary cases.\n",
    "\n",
    "If you use Euler’s method, you need to use both $Ψ(x, t)$ and $Ψ′(x, t)$ as variables.\n",
    "Or use the stepping method from the lectures, which uses $Ψ$ at the two most recent\n",
    "time points to calculate it at the next one."
   ]
  },
  {
   "cell_type": "code",
   "execution_count": null,
   "id": "135c9a84-552d-41ac-9dd4-e1a4b2deb118",
   "metadata": {},
   "outputs": [],
   "source": []
  },
  {
   "cell_type": "markdown",
   "id": "a6e3eac3-19a1-48a7-8b4d-22a3f52e52db",
   "metadata": {},
   "source": [
    "## B (1 point) \n",
    "Implement the time stepping. Determine the time development of\n",
    "the string, with the following initial conditions. The string is at rest at $t = 0$, i.e.\n",
    "$Ψ′(x, t = 0) = 0$.\\\n",
    "i. $Ψ(x, t = 0) = sin(2πx)$.\\\n",
    "ii. $Ψ(x, t = 0) = sin(5πx)$.\\\n",
    "iii. $Ψ(x, t = 0) = sin(5πx)$ if $1/5 < x < 2/5$, else $Ψ = 0$.\\\n",
    "Take $c = 1$ and use the time step $∆t = 0.001$. Plot the result at several times in\n",
    "the same figure, e.g. varying the color of the curve."
   ]
  },
  {
   "cell_type": "code",
   "execution_count": null,
   "id": "cb70acad-ffa2-4be6-99fa-9a7322fa149b",
   "metadata": {},
   "outputs": [],
   "source": []
  },
  {
   "cell_type": "markdown",
   "id": "8e342ba2-0694-421c-afe3-a51af076138a",
   "metadata": {},
   "source": [
    "## C (1 point) \n",
    "Make an animated plot of the time development. This can be done\n",
    "from within matplotlib, see the following reference:\n",
    "https://matplotlib.org/stable/users/explain/animations/animations.html\n",
    "\n",
    "With this technique, you can show the animation from within the Python program,\n",
    "or save it to a file in various video formats to use later, e.g. in presentations.\n",
    "You can also use matplotlib to save individual images, e.g. in the .png format, and\n",
    "then pack the images into an animation using ffmpeg or avconv."
   ]
  },
  {
   "cell_type": "code",
   "execution_count": null,
   "id": "4014d5e4-8999-4d91-8e6a-40dfad6704ec",
   "metadata": {},
   "outputs": [],
   "source": []
  },
  {
   "cell_type": "markdown",
   "id": "a6f774ea-0994-419d-9c94-7b0f3bd58494",
   "metadata": {},
   "source": [
    "---"
   ]
  },
  {
   "cell_type": "markdown",
   "id": "a844ceac-592b-4e7a-a2ea-2c0bcdd018da",
   "metadata": {},
   "source": [
    "## D (0.5 point) \n",
    "Determine the equation to use at the boundaries of the domain.\n",
    "Clearly show the ranges of the indices of the grid. A figure is extremely helpful for\n",
    "figuring this out.\n",
    "\n",
    "Write a program for the simulation of the two-dimensional time dependent diffusion\n",
    "equation discretized using the explicit finite difference formulation from eq. (7). You\n",
    "may want to write your data to a file (e.g. after every iteration, or maybe after every\n",
    "100 iterations) so that you can analyze the data later on or plot them immediately."
   ]
  },
  {
   "cell_type": "code",
   "execution_count": null,
   "id": "05497321-4020-4d3e-ab20-456dcbed0667",
   "metadata": {},
   "outputs": [],
   "source": []
  },
  {
   "cell_type": "markdown",
   "id": "6f9cb5af-0b89-466e-9ec3-d42b86c10896",
   "metadata": {},
   "source": [
    "## E (1 point) \n",
    "Test the correctness of your simulation. Compare to the analytic\n",
    "solutions, plot $c(y)$ for different times. The analytic solution is\n",
    "$$\n",
    "c(x,t) = \\sum_{i=0}^{\\infty} \\operatorname{erfc} \\left( \\frac{1 - x + 2i}{2\\sqrt{D t}} \\right) - \\operatorname{erfc} \\left( \\frac{1 + x + 2i}{2\\sqrt{D t}} \\right).\n",
    "$$\n",
    "\u0013"
   ]
  },
  {
   "cell_type": "code",
   "execution_count": null,
   "id": "bbb02e76-dba8-44a8-b46e-3f8184206c92",
   "metadata": {},
   "outputs": [],
   "source": []
  },
  {
   "cell_type": "markdown",
   "id": "ada3eb62-7897-456a-8f02-2a681fec07f8",
   "metadata": {},
   "source": [
    "## F (1 point) \n",
    "Plot the results, show the 2D domain, with a color representing the\n",
    "concentration at each point. Make a plot of the state of the system at several times: $t$ = {0, 0.001, 0.01, 0.1, and 1}."
   ]
  },
  {
   "cell_type": "code",
   "execution_count": null,
   "id": "32cf4756-31c1-479c-9b88-d331b6dba440",
   "metadata": {},
   "outputs": [],
   "source": []
  },
  {
   "cell_type": "markdown",
   "id": "070ff9c6-8920-4689-be7b-e3a2201b0990",
   "metadata": {},
   "source": [
    "## G (1 point) \n",
    "Make an animated plot of the time dependent diffusion equation until\n",
    "equilibrium."
   ]
  },
  {
   "cell_type": "code",
   "execution_count": null,
   "id": "56243ace-1a1d-4320-8a25-87e56729d3b4",
   "metadata": {},
   "outputs": [],
   "source": []
  },
  {
   "cell_type": "markdown",
   "id": "b932c61d-7632-4d65-9393-6367565febb0",
   "metadata": {},
   "source": [
    "---"
   ]
  },
  {
   "cell_type": "markdown",
   "id": "9122f405-f800-4621-b42a-76ab2ad863e3",
   "metadata": {},
   "source": [
    "## H (1 point) \n",
    "Implement the Jacobi iteration, the Gauss-Seidel method and SOR.\n",
    "Try $N = 50$. Test the methods by comparing the result to the analytical result in\n",
    "eq. (5), i.e. the linear dependence of the concentration on $y$."
   ]
  },
  {
   "cell_type": "code",
   "execution_count": null,
   "id": "c4f1d94f-f469-4aad-ae82-eaebf86eae24",
   "metadata": {},
   "outputs": [],
   "source": []
  },
  {
   "cell_type": "markdown",
   "id": "f649c0c8-1a3f-4bb4-b118-45f0948d92f7",
   "metadata": {},
   "source": [
    "## I (1 point) \n",
    "Show how the convergence measure $δ$ in eq. (14) depends on the number\n",
    "of iterations $k$ for each of the methods. A log-lin plot may be suitable. For SOR,\n",
    "choose a few representative values for $ω$."
   ]
  },
  {
   "cell_type": "code",
   "execution_count": null,
   "id": "b7a18838-438f-48cd-98ed-4d71338f3fa3",
   "metadata": {},
   "outputs": [],
   "source": []
  },
  {
   "cell_type": "markdown",
   "id": "46de97fd-fe56-466d-8f93-93e9af6b424b",
   "metadata": {},
   "source": [
    "## J (1 point) \n",
    "In the SOR method, find the optimal $ω$. How does it depend on $N$ ?.\n",
    "So far we have only looked at diffusion in a rather dull domain. Now that we have\n",
    "an efficient iterative solver available, it’s time to start including some object into the\n",
    "domain. So, now we assume that within our computational domain we include say\n",
    "a square object. We assume that the object is a sink for the diffusion concentration,\n",
    "that is, the concentration is zero everywhere on the object."
   ]
  },
  {
   "cell_type": "code",
   "execution_count": null,
   "id": "4664b9cf-9ef5-4f5a-ba19-8f74d5493f4d",
   "metadata": {},
   "outputs": [],
   "source": []
  },
  {
   "cell_type": "markdown",
   "id": "72ef23c8-da4a-4d81-bd5c-2052f9ca35e3",
   "metadata": {},
   "source": [
    "## K (2 point) \n",
    "Implement the possibility to include objects into the computational\n",
    "domain. The objects should be sinks. Experiment a little bit with some objects in\n",
    "the computational domain (e.g. a rectangle or a few rectangles, ...). What is the\n",
    "influence on the number of iterations. What about the optimal $ω$ , is it influenced\n",
    "by the presence of objects? Look at the resulting concentration fields, and try to\n",
    "interpret what happens. The implementation in this exercise will also be used for\n",
    "diffusion-limited aggregation in Set 2.\n",
    "\n",
    "Hint: For the iterations, the presence of the objects is not complicated. If a point\n",
    "$(i, j)$ is part of an object, the concentration is just 0, and an iteration is not necessary\n",
    "(i.e., the new value is also 0). Therefore, you must implement some easy encoding\n",
    "of the object in the computational grid, and during the iterations simply test if the\n",
    "grid point that you are updating is part of the object or not. If not, you apply the\n",
    "SOR rule, if yes, just put the new value to zero. The easiest encoding is just an\n",
    "extra array of integers, where e.g. a one-value would code for the presence of an\n",
    "object, and a zero value for the absence of an object."
   ]
  },
  {
   "cell_type": "code",
   "execution_count": null,
   "id": "91a4f1fb-a832-4850-97a8-9760968298c6",
   "metadata": {},
   "outputs": [],
   "source": []
  },
  {
   "cell_type": "markdown",
   "id": "caf3cac1-ff27-44e7-8e60-5fee8cb0716c",
   "metadata": {},
   "source": [
    "## Optional (1 point) \n",
    "Think of a way to incorporate objects with insulating material\n",
    "in your domain. What changes in the time evolution of the system? And in the\n",
    "final state?"
   ]
  },
  {
   "cell_type": "code",
   "execution_count": null,
   "id": "8261ce8c-2763-46e5-9104-0dd8428063fb",
   "metadata": {},
   "outputs": [],
   "source": []
  }
 ],
 "metadata": {
  "kernelspec": {
   "display_name": "Python 3 (ipykernel)",
   "language": "python",
   "name": "python3"
  },
  "language_info": {
   "codemirror_mode": {
    "name": "ipython",
    "version": 3
   },
   "file_extension": ".py",
   "mimetype": "text/x-python",
   "name": "python",
   "nbconvert_exporter": "python",
   "pygments_lexer": "ipython3",
   "version": "3.12.4"
  }
 },
 "nbformat": 4,
 "nbformat_minor": 5
}
